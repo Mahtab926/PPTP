{
 "cells": [
  {
   "cell_type": "code",
   "execution_count": 1,
   "id": "5d342932",
   "metadata": {},
   "outputs": [
    {
     "name": "stdout",
     "output_type": "stream",
     "text": [
      "0\n",
      "2\n",
      "-1\n"
     ]
    }
   ],
   "source": [
    "def firstUniqChar(s):\n",
    "    # Create a hashmap to store character frequencies\n",
    "    freq_map = {}\n",
    "\n",
    "    # Count the frequency of each character\n",
    "    for char in s:\n",
    "        freq_map[char] = freq_map.get(char, 0) + 1\n",
    "\n",
    "    # Find the first non-repeating character\n",
    "    for i in range(len(s)):\n",
    "        if freq_map[s[i]] == 1:\n",
    "            return i\n",
    "\n",
    "    # If no non-repeating character found, return -1\n",
    "    return -1\n",
    "\n",
    "\n",
    "print(firstUniqChar(\"leetcode\"))     \n",
    "print(firstUniqChar(\"loveleetcode\"))   \n",
    "print(firstUniqChar(\"aabb\"))           "
   ]
  },
  {
   "cell_type": "code",
   "execution_count": null,
   "id": "073f578b",
   "metadata": {},
   "outputs": [],
   "source": []
  }
 ],
 "metadata": {
  "kernelspec": {
   "display_name": "Python 3 (ipykernel)",
   "language": "python",
   "name": "python3"
  },
  "language_info": {
   "codemirror_mode": {
    "name": "ipython",
    "version": 3
   },
   "file_extension": ".py",
   "mimetype": "text/x-python",
   "name": "python",
   "nbconvert_exporter": "python",
   "pygments_lexer": "ipython3",
   "version": "3.9.13"
  }
 },
 "nbformat": 4,
 "nbformat_minor": 5
}
